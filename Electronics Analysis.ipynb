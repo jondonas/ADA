{
 "cells": [
  {
   "cell_type": "code",
   "execution_count": 2,
   "metadata": {},
   "outputs": [],
   "source": [
    "import numpy as np\n",
    "import pandas as pd\n",
    "import seaborn as sns\n",
    "import matplotlib as plt\n",
    "import json\n",
    "import seaborn as sns\n",
    "import matplotlib.pyplot as plt\n",
    "import string\n",
    "import nltk\n",
    "from nltk.corpus import stopwords\n",
    "from sklearn.feature_extraction.text import CountVectorizer\n",
    "from sklearn.model_selection import train_test_split\n",
    "from sklearn.naive_bayes import MultinomialNB\n",
    "from sklearn.naive_bayes import ComplementNB\n",
    "from sklearn.metrics import confusion_matrix, classification_report"
   ]
  },
  {
   "cell_type": "markdown",
   "metadata": {},
   "source": [
    "#### Read file"
   ]
  },
  {
   "cell_type": "code",
   "execution_count": 3,
   "metadata": {},
   "outputs": [
    {
     "data": {
      "text/html": [
       "<div>\n",
       "<style scoped>\n",
       "    .dataframe tbody tr th:only-of-type {\n",
       "        vertical-align: middle;\n",
       "    }\n",
       "\n",
       "    .dataframe tbody tr th {\n",
       "        vertical-align: top;\n",
       "    }\n",
       "\n",
       "    .dataframe thead th {\n",
       "        text-align: right;\n",
       "    }\n",
       "</style>\n",
       "<table border=\"1\" class=\"dataframe\">\n",
       "  <thead>\n",
       "    <tr style=\"text-align: right;\">\n",
       "      <th></th>\n",
       "      <th>customer_id</th>\n",
       "      <th>helpful_votes</th>\n",
       "      <th>product_category</th>\n",
       "      <th>product_id</th>\n",
       "      <th>review_body</th>\n",
       "      <th>review_date</th>\n",
       "      <th>review_id</th>\n",
       "      <th>star_rating</th>\n",
       "      <th>total_votes</th>\n",
       "      <th>verified_purchase</th>\n",
       "    </tr>\n",
       "  </thead>\n",
       "  <tbody>\n",
       "    <tr>\n",
       "      <th>0</th>\n",
       "      <td>51005725</td>\n",
       "      <td>70</td>\n",
       "      <td>Electronics</td>\n",
       "      <td>B00001W0DC</td>\n",
       "      <td>First, a direct product link for the MDR-V150:...</td>\n",
       "      <td>2008-06-17</td>\n",
       "      <td>R5M7VQVV19FAQ</td>\n",
       "      <td>1</td>\n",
       "      <td>75</td>\n",
       "      <td>N</td>\n",
       "    </tr>\n",
       "  </tbody>\n",
       "</table>\n",
       "</div>"
      ],
      "text/plain": [
       "   customer_id  helpful_votes product_category  product_id  \\\n",
       "0     51005725             70      Electronics  B00001W0DC   \n",
       "\n",
       "                                         review_body review_date  \\\n",
       "0  First, a direct product link for the MDR-V150:...  2008-06-17   \n",
       "\n",
       "       review_id  star_rating  total_votes verified_purchase  \n",
       "0  R5M7VQVV19FAQ            1           75                 N  "
      ]
     },
     "execution_count": 3,
     "metadata": {},
     "output_type": "execute_result"
    }
   ],
   "source": [
    "df = pd.read_json('data/electronics_final.json', lines=True)\n",
    "df = df[df.product_category == 'Electronics']\n",
    "df = df[df.total_votes > 5]"
   ]
  },
  {
   "cell_type": "markdown",
   "metadata": {},
   "source": [
    "#### Add useful columns"
   ]
  },
  {
   "cell_type": "code",
   "execution_count": 4,
   "metadata": {},
   "outputs": [
    {
     "data": {
      "text/html": [
       "<div>\n",
       "<style scoped>\n",
       "    .dataframe tbody tr th:only-of-type {\n",
       "        vertical-align: middle;\n",
       "    }\n",
       "\n",
       "    .dataframe tbody tr th {\n",
       "        vertical-align: top;\n",
       "    }\n",
       "\n",
       "    .dataframe thead th {\n",
       "        text-align: right;\n",
       "    }\n",
       "</style>\n",
       "<table border=\"1\" class=\"dataframe\">\n",
       "  <thead>\n",
       "    <tr style=\"text-align: right;\">\n",
       "      <th></th>\n",
       "      <th>customer_id</th>\n",
       "      <th>helpful_votes</th>\n",
       "      <th>product_category</th>\n",
       "      <th>product_id</th>\n",
       "      <th>review_body</th>\n",
       "      <th>review_date</th>\n",
       "      <th>review_id</th>\n",
       "      <th>star_rating</th>\n",
       "      <th>total_votes</th>\n",
       "      <th>verified_purchase</th>\n",
       "      <th>helpfulness</th>\n",
       "      <th>helpful</th>\n",
       "      <th>review_length</th>\n",
       "    </tr>\n",
       "  </thead>\n",
       "  <tbody>\n",
       "    <tr>\n",
       "      <th>0</th>\n",
       "      <td>51005725</td>\n",
       "      <td>70</td>\n",
       "      <td>Electronics</td>\n",
       "      <td>B00001W0DC</td>\n",
       "      <td>First, a direct product link for the MDR-V150:...</td>\n",
       "      <td>2008-06-17</td>\n",
       "      <td>R5M7VQVV19FAQ</td>\n",
       "      <td>1</td>\n",
       "      <td>75</td>\n",
       "      <td>N</td>\n",
       "      <td>0.93</td>\n",
       "      <td>True</td>\n",
       "      <td>1600</td>\n",
       "    </tr>\n",
       "  </tbody>\n",
       "</table>\n",
       "</div>"
      ],
      "text/plain": [
       "   customer_id  helpful_votes product_category  product_id  \\\n",
       "0     51005725             70      Electronics  B00001W0DC   \n",
       "\n",
       "                                         review_body review_date  \\\n",
       "0  First, a direct product link for the MDR-V150:...  2008-06-17   \n",
       "\n",
       "       review_id  star_rating  total_votes verified_purchase  helpfulness  \\\n",
       "0  R5M7VQVV19FAQ            1           75                 N         0.93   \n",
       "\n",
       "   helpful  review_length  \n",
       "0     True           1600  "
      ]
     },
     "execution_count": 4,
     "metadata": {},
     "output_type": "execute_result"
    }
   ],
   "source": [
    "df = df.dropna()\n",
    "df['helpfulness'] = (df.helpful_votes / df.total_votes).round(2)\n",
    "\n",
    "df['helpful'] = df.helpfulness > 0.8\n",
    "\n",
    "df['review_length'] = df['review_body'].apply(len)\n",
    "df = df[df.review_length <= 5000]\n",
    "df.head(1)"
   ]
  },
  {
   "cell_type": "markdown",
   "metadata": {},
   "source": [
    "#### Stats"
   ]
  },
  {
   "cell_type": "code",
   "execution_count": 5,
   "metadata": {},
   "outputs": [
    {
     "name": "stdout",
     "output_type": "stream",
     "text": [
      "total count\n",
      "21070\n",
      "\n",
      "helpful count\n",
      "13674\n",
      "\n",
      "not helpful count\n",
      "7396\n",
      "\n",
      "average helpfulness\n",
      "0.7819501661129379\n",
      "\n",
      "average length of helpful review\n",
      "1169.928038613427\n",
      "\n",
      "average length of not helpful review\n",
      "796.5996484586262\n"
     ]
    }
   ],
   "source": [
    "# count: \n",
    "print(\"total count\")\n",
    "print(df.customer_id.count())\n",
    "\n",
    "# Num helpful:\n",
    "print(\"\\nhelpful count\")\n",
    "print(df[df['helpful'] == True].customer_id.count())\n",
    "\n",
    "# Num not helpful: \n",
    "print(\"\\nnot helpful count\")\n",
    "print(df[df['helpful'] == False].customer_id.count())\n",
    "\n",
    "# average helpfulness score:\n",
    "print(\"\\naverage helpfulness\")\n",
    "print(df.helpfulness.mean())\n",
    "\n",
    "# average length of helpful review\n",
    "print(\"\\naverage length of helpful review\")\n",
    "print(df[df.helpful == True].review_length.mean())\n",
    "\n",
    "#  average length of not helpful review\n",
    "print(\"\\naverage length of not helpful review\")\n",
    "print(df[df.helpful == False].review_length.mean())"
   ]
  },
  {
   "cell_type": "markdown",
   "metadata": {},
   "source": [
    "# Analyse factors vs helpfulness"
   ]
  },
  {
   "cell_type": "markdown",
   "metadata": {},
   "source": [
    "#### Review length"
   ]
  },
  {
   "cell_type": "code",
   "execution_count": 6,
   "metadata": {},
   "outputs": [
    {
     "data": {
      "text/plain": [
       "<matplotlib.axes._subplots.AxesSubplot at 0x1a2de0def0>"
      ]
     },
     "execution_count": 6,
     "metadata": {},
     "output_type": "execute_result"
    },
    {
     "data": {
      "image/png": "[encoded data removed]",
      "text/plain": [
       "<Figure size 432x216 with 2 Axes>"
      ]
     },
     "metadata": {},
     "output_type": "display_data"
    },
    {
     "data": {
      "image/png": "[encoded data removed]",
      "text/plain": [
       "<Figure size 432x288 with 1 Axes>"
      ]
     },
     "metadata": {},
     "output_type": "display_data"
    }
   ],
   "source": [
    "g = sns.FacetGrid(data=df, col='helpful')\n",
    "g.map(plt.hist, 'review_length', bins=50)\n",
    "\n",
    "df.plot.scatter(x='review_length',y='helpfulness')"
   ]
  },
  {
   "cell_type": "markdown",
   "metadata": {},
   "source": [
    "#### Star rating"
   ]
  },
  {
   "cell_type": "code",
   "execution_count": 6,
   "metadata": {
    "scrolled": true
   },
   "outputs": [
    {
     "data": {
      "text/plain": [
       "<seaborn.axisgrid.FacetGrid at 0x105b65898>"
      ]
     },
     "execution_count": 6,
     "metadata": {},
     "output_type": "execute_result"
    },
    {
     "data": {
      "image/png": "[encoded data removed]",
      "text/plain": [
       "<Figure size 432x216 with 2 Axes>"
      ]
     },
     "metadata": {},
     "output_type": "display_data"
    }
   ],
   "source": [
    "g = sns.FacetGrid(data=df, col='helpful')\n",
    "g.map(plt.hist, 'star_rating', bins=50)"
   ]
  },
  {
   "cell_type": "markdown",
   "metadata": {},
   "source": [
    "#### Review Date"
   ]
  },
  {
   "cell_type": "code",
   "execution_count": 8,
   "metadata": {},
   "outputs": [
    {
     "data": {
      "text/plain": [
       "<matplotlib.axes._subplots.AxesSubplot at 0x1a2c9eee48>"
      ]
     },
     "execution_count": 8,
     "metadata": {},
     "output_type": "execute_result"
    },
    {
     "data": {
      "image/png": "[encoded data removed]",
      "text/plain": [
       "<Figure size 432x288 with 1 Axes>"
      ]
     },
     "metadata": {},
     "output_type": "display_data"
    }
   ],
   "source": [
    "df['review_date'] = pd.to_datetime(df[\"review_date\"]).dt.strftime(\"%Y%m%d\").astype(int)\n",
    "df.plot.scatter(x='review_date',y='helpfulness')"
   ]
  },
  {
   "cell_type": "markdown",
   "metadata": {},
   "source": [
    "#### Verified purchase"
   ]
  },
  {
   "cell_type": "code",
   "execution_count": 7,
   "metadata": {},
   "outputs": [
    {
     "name": "stdout",
     "output_type": "stream",
     "text": [
      "avg helpfulness of verified purchases: 0.7913079183955624\n",
      "avg helpfulness of unverified purchases: 0.77055777731003\n"
     ]
    }
   ],
   "source": [
    "ver = df[df.verified_purchase == 'Y']\n",
    "not_ver = df[df.verified_purchase == 'N']\n",
    "\n",
    "print(\"avg helpfulness of verified purchases: {0}\".format(ver.helpfulness.mean()))\n",
    "print(\"avg helpfulness of unverified purchases: {0}\".format(not_ver.helpfulness.mean()))"
   ]
  },
  {
   "cell_type": "markdown",
   "metadata": {},
   "source": [
    "# Predicting using Naive Bayes"
   ]
  },
  {
   "cell_type": "code",
   "execution_count": 9,
   "metadata": {},
   "outputs": [],
   "source": [
    "X = df['review_body']\n",
    "Y = df['helpful']"
   ]
  },
  {
   "cell_type": "code",
   "execution_count": 10,
   "metadata": {},
   "outputs": [],
   "source": [
    "bow_transformer = CountVectorizer(analyzer=text_process).fit(X)"
   ]
  },
  {
   "cell_type": "code",
   "execution_count": 11,
   "metadata": {},
   "outputs": [],
   "source": [
    "X = bow_transformer.transform(X)"
   ]
  },
  {
   "cell_type": "code",
   "execution_count": 12,
   "metadata": {},
   "outputs": [],
   "source": [
    "X_train, X_test, Y_train, Y_test = train_test_split(X, Y, test_size=0.3, random_state=101)"
   ]
  },
  {
   "cell_type": "markdown",
   "metadata": {},
   "source": [
    "### MultinomialNB"
   ]
  },
  {
   "cell_type": "code",
   "execution_count": 13,
   "metadata": {},
   "outputs": [
    {
     "data": {
      "text/plain": [
       "MultinomialNB(alpha=1.0, class_prior=None, fit_prior=True)"
      ]
     },
     "execution_count": 13,
     "metadata": {},
     "output_type": "execute_result"
    }
   ],
   "source": [
    "nb = MultinomialNB()\n",
    "nb.fit(X_train, Y_train)"
   ]
  },
  {
   "cell_type": "code",
   "execution_count": 14,
   "metadata": {
    "scrolled": true
   },
   "outputs": [
    {
     "name": "stdout",
     "output_type": "stream",
     "text": [
      "[[ 722 1452]\n",
      " [ 472 3675]]\n",
      "\n",
      "\n",
      "              precision    recall  f1-score   support\n",
      "\n",
      "       False       0.60      0.33      0.43      2174\n",
      "        True       0.72      0.89      0.79      4147\n",
      "\n",
      "   micro avg       0.70      0.70      0.70      6321\n",
      "   macro avg       0.66      0.61      0.61      6321\n",
      "weighted avg       0.68      0.70      0.67      6321\n",
      "\n"
     ]
    }
   ],
   "source": [
    "preds = nb.predict(X_test)\n",
    "\n",
    "print(confusion_matrix(Y_test, preds))\n",
    "print('\\n')\n",
    "print(classification_report(Y_test, preds))"
   ]
  },
  {
   "cell_type": "markdown",
   "metadata": {},
   "source": [
    "#### Manual examination"
   ]
  },
  {
   "cell_type": "code",
   "execution_count": 17,
   "metadata": {},
   "outputs": [
    {
     "data": {
      "text/html": [
       "<div>\n",
       "<style scoped>\n",
       "    .dataframe tbody tr th:only-of-type {\n",
       "        vertical-align: middle;\n",
       "    }\n",
       "\n",
       "    .dataframe tbody tr th {\n",
       "        vertical-align: top;\n",
       "    }\n",
       "\n",
       "    .dataframe thead th {\n",
       "        text-align: right;\n",
       "    }\n",
       "</style>\n",
       "<table border=\"1\" class=\"dataframe\">\n",
       "  <thead>\n",
       "    <tr style=\"text-align: right;\">\n",
       "      <th></th>\n",
       "      <th>customer_id</th>\n",
       "      <th>helpful_votes</th>\n",
       "      <th>product_category</th>\n",
       "      <th>product_id</th>\n",
       "      <th>review_body</th>\n",
       "      <th>review_date</th>\n",
       "      <th>review_id</th>\n",
       "      <th>star_rating</th>\n",
       "      <th>total_votes</th>\n",
       "      <th>verified_purchase</th>\n",
       "      <th>helpfulness</th>\n",
       "      <th>helpful</th>\n",
       "      <th>review_length</th>\n",
       "    </tr>\n",
       "  </thead>\n",
       "  <tbody>\n",
       "    <tr>\n",
       "      <th>1897</th>\n",
       "      <td>22817040</td>\n",
       "      <td>4</td>\n",
       "      <td>Electronics</td>\n",
       "      <td>B004X4L1UC</td>\n",
       "      <td>The glasses is probably OK, but they didn`t wo...</td>\n",
       "      <td>2011-07-25</td>\n",
       "      <td>R59LGUZNZU4QT</td>\n",
       "      <td>1</td>\n",
       "      <td>35</td>\n",
       "      <td>Y</td>\n",
       "      <td>0.11</td>\n",
       "      <td>False</td>\n",
       "      <td>161</td>\n",
       "    </tr>\n",
       "  </tbody>\n",
       "</table>\n",
       "</div>"
      ],
      "text/plain": [
       "      customer_id  helpful_votes product_category  product_id  \\\n",
       "1897     22817040              4      Electronics  B004X4L1UC   \n",
       "\n",
       "                                            review_body review_date  \\\n",
       "1897  The glasses is probably OK, but they didn`t wo...  2011-07-25   \n",
       "\n",
       "          review_id  star_rating  total_votes verified_purchase  helpfulness  \\\n",
       "1897  R59LGUZNZU4QT            1           35                 Y         0.11   \n",
       "\n",
       "      helpful  review_length  \n",
       "1897    False            161  "
      ]
     },
     "execution_count": 17,
     "metadata": {},
     "output_type": "execute_result"
    }
   ],
   "source": [
    "df[df.helpfulness > 0.1].sort_values('helpfulness').head(1)"
   ]
  },
  {
   "cell_type": "code",
   "execution_count": 18,
   "metadata": {},
   "outputs": [
    {
     "name": "stdout",
     "output_type": "stream",
     "text": [
      "predicted helpful: True, actual helpfulness: 0.93\n"
     ]
    }
   ],
   "source": [
    "mid_review = df['review_body'][2808]\n",
    "mid_review_transformed = bow_transformer.transform([mid_review])\n",
    "print(\"predicted helpful: {0}, actual helpfulness: {1}\".format(nb.predict(mid_review_transformed)[0],df['helpfulness'][2808]))"
   ]
  },
  {
   "cell_type": "markdown",
   "metadata": {},
   "source": [
    "#### Popular products"
   ]
  },
  {
   "cell_type": "code",
   "execution_count": 19,
   "metadata": {},
   "outputs": [
    {
     "data": {
      "text/plain": [
       "B00007EPJ6    90\n",
       "B00C404VC2    70\n",
       "B00C402ZYS    64\n",
       "B00H6A35X6    64\n",
       "B000JVGWJI    60\n",
       "B0001BRITE    58\n",
       "Name: product_id, dtype: int64"
      ]
     },
     "execution_count": 19,
     "metadata": {},
     "output_type": "execute_result"
    }
   ],
   "source": [
    "df.product_id.value_counts(ascending=False).head(6)"
   ]
  },
  {
   "cell_type": "code",
   "execution_count": 21,
   "metadata": {
    "scrolled": false
   },
   "outputs": [
    {
     "data": {
      "image/png": "[encoded data removed]",
      "text/plain": [
       "<Figure size 864x576 with 5 Axes>"
      ]
     },
     "metadata": {},
     "output_type": "display_data"
    }
   ],
   "source": [
    "df_1 = df[df.product_id == 'B00007EPJ6']\n",
    "df_2 = df[df.product_id == 'B00C404VC2']\n",
    "df_3 = df[df.product_id == 'B00C402ZYS']\n",
    "df_4 = df[df.product_id == 'B00H6A35X6']\n",
    "df_5 = df[df.product_id == 'B000JVGWJI']\n",
    "df_6 = df[df.product_id == 'B0001BRITE']\n",
    "\n",
    "gridsize = (3, 2)\n",
    "fig = plt.figure(figsize=(12, 8))\n",
    "ax1 = plt.subplot2grid(gridsize, (0, 0))\n",
    "ax2 = plt.subplot2grid(gridsize, (1, 0))\n",
    "ax3 = plt.subplot2grid(gridsize, (2, 0))\n",
    "ax4 = plt.subplot2grid(gridsize, (0, 1))\n",
    "ax5 = plt.subplot2grid(gridsize, (1, 1))\n",
    "ax6 = plt.subplot2grid(gridsize, (1, 1))\n",
    "\n",
    "for ax in (ax1, ax2, ax3, ax4, ax5, ax6):\n",
    "    ax.set_xticks([])\n",
    "\n",
    "sctr = ax1.scatter(x = df_1.review_date, y = df_1.helpfulness)\n",
    "sctr = ax2.scatter(x = df_2.review_date, y = df_2.helpfulness)\n",
    "sctr = ax3.scatter(x = df_3.review_date, y = df_3.helpfulness)\n",
    "sctr = ax4.scatter(x = df_4.review_date, y = df_4.helpfulness)\n",
    "sctr = ax5.scatter(x = df_5.review_date, y = df_5.helpfulness)\n",
    "sctr = ax6.scatter(x = df_6.review_date, y = df_6.helpfulness)"
   ]
  },
  {
   "cell_type": "code",
   "execution_count": null,
   "metadata": {},
   "outputs": [],
   "source": []
  }
 ],
 "metadata": {
  "kernelspec": {
   "display_name": "Python [conda env:anaconda3]",
   "language": "python",
   "name": "conda-env-anaconda3-py"
  },
  "language_info": {
   "codemirror_mode": {
    "name": "ipython",
    "version": 3
   },
   "file_extension": ".py",
   "mimetype": "text/x-python",
   "name": "python",
   "nbconvert_exporter": "python",
   "pygments_lexer": "ipython3",
   "version": "3.6.5"
  }
 },
 "nbformat": 4,
 "nbformat_minor": 2
}
