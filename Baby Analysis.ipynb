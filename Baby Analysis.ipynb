{
 "cells": [
  {
   "cell_type": "code",
   "execution_count": 1,
   "metadata": {},
   "outputs": [],
   "source": [
    "import numpy as np\n",
    "import pandas as pd\n",
    "import seaborn as sns\n",
    "import matplotlib as plt\n",
    "import json\n",
    "import seaborn as sns\n",
    "import matplotlib.pyplot as plt\n",
    "import string\n",
    "import nltk\n",
    "from nltk.corpus import stopwords\n",
    "from sklearn.feature_extraction.text import CountVectorizer\n",
    "from sklearn.model_selection import train_test_split\n",
    "from sklearn.naive_bayes import MultinomialNB\n",
    "from sklearn.naive_bayes import ComplementNB\n",
    "from sklearn.metrics import confusion_matrix, classification_report"
   ]
  },
  {
   "cell_type": "markdown",
   "metadata": {},
   "source": [
    "#### Read file"
   ]
  },
  {
   "cell_type": "code",
   "execution_count": 2,
   "metadata": {},
   "outputs": [
    {
     "data": {
      "text/html": [
       "<div>\n",
       "<style scoped>\n",
       "    .dataframe tbody tr th:only-of-type {\n",
       "        vertical-align: middle;\n",
       "    }\n",
       "\n",
       "    .dataframe tbody tr th {\n",
       "        vertical-align: top;\n",
       "    }\n",
       "\n",
       "    .dataframe thead th {\n",
       "        text-align: right;\n",
       "    }\n",
       "</style>\n",
       "<table border=\"1\" class=\"dataframe\">\n",
       "  <thead>\n",
       "    <tr style=\"text-align: right;\">\n",
       "      <th></th>\n",
       "      <th>customer_id</th>\n",
       "      <th>helpful_votes</th>\n",
       "      <th>product_category</th>\n",
       "      <th>product_id</th>\n",
       "      <th>review_body</th>\n",
       "      <th>review_date</th>\n",
       "      <th>review_id</th>\n",
       "      <th>star_rating</th>\n",
       "      <th>total_votes</th>\n",
       "      <th>verified_purchase</th>\n",
       "    </tr>\n",
       "  </thead>\n",
       "  <tbody>\n",
       "    <tr>\n",
       "      <th>0</th>\n",
       "      <td>27010394</td>\n",
       "      <td>15</td>\n",
       "      <td>Baby</td>\n",
       "      <td>B0000BUSS6</td>\n",
       "      <td>Let me begin by providing some important infor...</td>\n",
       "      <td>2004-07-08</td>\n",
       "      <td>RMIUUUVBPIVAW</td>\n",
       "      <td>5</td>\n",
       "      <td>15</td>\n",
       "      <td>N</td>\n",
       "    </tr>\n",
       "  </tbody>\n",
       "</table>\n",
       "</div>"
      ],
      "text/plain": [
       "   customer_id  helpful_votes product_category  product_id  \\\n",
       "0     27010394             15             Baby  B0000BUSS6   \n",
       "\n",
       "                                         review_body review_date  \\\n",
       "0  Let me begin by providing some important infor...  2004-07-08   \n",
       "\n",
       "       review_id  star_rating  total_votes verified_purchase  \n",
       "0  RMIUUUVBPIVAW            5           15                 N  "
      ]
     },
     "execution_count": 2,
     "metadata": {},
     "output_type": "execute_result"
    }
   ],
   "source": [
    "df = pd.read_json('data/baby_final.json', lines=True)\n",
    "df = df[df.product_category == 'Baby']\n",
    "df = df[df.total_votes > 5]\n",
    "df.head(1)"
   ]
  },
  {
   "cell_type": "markdown",
   "metadata": {},
   "source": [
    "#### Add useful columns"
   ]
  },
  {
   "cell_type": "code",
   "execution_count": 3,
   "metadata": {},
   "outputs": [
    {
     "data": {
      "text/html": [
       "<div>\n",
       "<style scoped>\n",
       "    .dataframe tbody tr th:only-of-type {\n",
       "        vertical-align: middle;\n",
       "    }\n",
       "\n",
       "    .dataframe tbody tr th {\n",
       "        vertical-align: top;\n",
       "    }\n",
       "\n",
       "    .dataframe thead th {\n",
       "        text-align: right;\n",
       "    }\n",
       "</style>\n",
       "<table border=\"1\" class=\"dataframe\">\n",
       "  <thead>\n",
       "    <tr style=\"text-align: right;\">\n",
       "      <th></th>\n",
       "      <th>customer_id</th>\n",
       "      <th>helpful_votes</th>\n",
       "      <th>product_category</th>\n",
       "      <th>product_id</th>\n",
       "      <th>review_body</th>\n",
       "      <th>review_date</th>\n",
       "      <th>review_id</th>\n",
       "      <th>star_rating</th>\n",
       "      <th>total_votes</th>\n",
       "      <th>verified_purchase</th>\n",
       "      <th>helpfulness</th>\n",
       "      <th>helpful</th>\n",
       "      <th>review_length</th>\n",
       "    </tr>\n",
       "  </thead>\n",
       "  <tbody>\n",
       "    <tr>\n",
       "      <th>0</th>\n",
       "      <td>27010394</td>\n",
       "      <td>15</td>\n",
       "      <td>Baby</td>\n",
       "      <td>B0000BUSS6</td>\n",
       "      <td>Let me begin by providing some important infor...</td>\n",
       "      <td>2004-07-08</td>\n",
       "      <td>RMIUUUVBPIVAW</td>\n",
       "      <td>5</td>\n",
       "      <td>15</td>\n",
       "      <td>N</td>\n",
       "      <td>1.0</td>\n",
       "      <td>True</td>\n",
       "      <td>1579</td>\n",
       "    </tr>\n",
       "  </tbody>\n",
       "</table>\n",
       "</div>"
      ],
      "text/plain": [
       "   customer_id  helpful_votes product_category  product_id  \\\n",
       "0     27010394             15             Baby  B0000BUSS6   \n",
       "\n",
       "                                         review_body review_date  \\\n",
       "0  Let me begin by providing some important infor...  2004-07-08   \n",
       "\n",
       "       review_id  star_rating  total_votes verified_purchase  helpfulness  \\\n",
       "0  RMIUUUVBPIVAW            5           15                 N          1.0   \n",
       "\n",
       "   helpful  review_length  \n",
       "0     True           1579  "
      ]
     },
     "execution_count": 3,
     "metadata": {},
     "output_type": "execute_result"
    }
   ],
   "source": [
    "df = df.dropna()\n",
    "df['helpfulness'] = (df.helpful_votes / df.total_votes).round(2)\n",
    "\n",
    "df['helpful'] = df.helpfulness > 0.8\n",
    "\n",
    "df['review_length'] = df['review_body'].apply(len)\n",
    "df = df[df.review_length <= 5000]\n",
    "df.head(1)"
   ]
  },
  {
   "cell_type": "markdown",
   "metadata": {},
   "source": [
    "#### Stats"
   ]
  },
  {
   "cell_type": "code",
   "execution_count": 4,
   "metadata": {},
   "outputs": [
    {
     "name": "stdout",
     "output_type": "stream",
     "text": [
      "total count\n",
      "11069\n",
      "\n",
      "helpful count\n",
      "7269\n",
      "\n",
      "not helpful count\n",
      "3800\n",
      "\n",
      "average helpfulness\n",
      "0.812534104255115\n",
      "\n",
      "average length of helpful review\n",
      "943.5077727335259\n",
      "\n",
      "average length of not helpful review\n",
      "814.2894736842105\n"
     ]
    }
   ],
   "source": [
    "# count: \n",
    "print(\"total count\")\n",
    "print(df.customer_id.count())\n",
    "\n",
    "# Num helpful:\n",
    "print(\"\\nhelpful count\")\n",
    "print(df[df['helpful'] == True].customer_id.count())\n",
    "\n",
    "# Num not helpful: \n",
    "print(\"\\nnot helpful count\")\n",
    "print(df[df['helpful'] == False].customer_id.count())\n",
    "\n",
    "# average helpfulness score:\n",
    "print(\"\\naverage helpfulness\")\n",
    "print(df.helpfulness.mean())\n",
    "\n",
    "# average length of helpful review\n",
    "print(\"\\naverage length of helpful review\")\n",
    "print(df[df.helpful == True].review_length.mean())\n",
    "\n",
    "#  average length of not helpful review\n",
    "print(\"\\naverage length of not helpful review\")\n",
    "print(df[df.helpful == False].review_length.mean())"
   ]
  },
  {
   "cell_type": "markdown",
   "metadata": {},
   "source": [
    "# Analyse factors vs helpfulness"
   ]
  },
  {
   "cell_type": "markdown",
   "metadata": {},
   "source": [
    "#### Review length"
   ]
  },
  {
   "cell_type": "code",
   "execution_count": 5,
   "metadata": {},
   "outputs": [
    {
     "data": {
      "text/plain": [
       "<seaborn.axisgrid.FacetGrid at 0x1a185ec978>"
      ]
     },
     "execution_count": 5,
     "metadata": {},
     "output_type": "execute_result"
    },
    {
     "data": {
      "image/png": "[encoded data removed]",
      "text/plain": [
       "<Figure size 432x216 with 2 Axes>"
      ]
     },
     "metadata": {},
     "output_type": "display_data"
    }
   ],
   "source": [
    "g = sns.FacetGrid(data=df, col='helpful')\n",
    "g.map(plt.hist, 'review_length', bins=50)"
   ]
  },
  {
   "cell_type": "markdown",
   "metadata": {},
   "source": [
    "#### Star rating"
   ]
  },
  {
   "cell_type": "code",
   "execution_count": 6,
   "metadata": {},
   "outputs": [
    {
     "data": {
      "text/plain": [
       "<seaborn.axisgrid.FacetGrid at 0x1a18a5fc50>"
      ]
     },
     "execution_count": 6,
     "metadata": {},
     "output_type": "execute_result"
    },
    {
     "data": {
      "image/png": "[encoded data removed]",
      "text/plain": [
       "<Figure size 432x216 with 2 Axes>"
      ]
     },
     "metadata": {},
     "output_type": "display_data"
    }
   ],
   "source": [
    "g = sns.FacetGrid(data=df, col='helpful')\n",
    "g.map(plt.hist, 'star_rating', bins=50)"
   ]
  },
  {
   "cell_type": "code",
   "execution_count": 22,
   "metadata": {},
   "outputs": [
    {
     "data": {
      "text/plain": [
       "<matplotlib.axes._subplots.AxesSubplot at 0x1064ce240>"
      ]
     },
     "execution_count": 22,
     "metadata": {},
     "output_type": "execute_result"
    },
    {
     "data": {
      "image/png": "[encoded data removed]",
      "text/plain": [
       "<Figure size 432x288 with 1 Axes>"
      ]
     },
     "metadata": {},
     "output_type": "display_data"
    },
    {
     "data": {
      "image/png": "[encoded data removed]",
      "text/plain": [
       "<Figure size 432x288 with 1 Axes>"
      ]
     },
     "metadata": {},
     "output_type": "display_data"
    }
   ],
   "source": [
    "df.plot.scatter(x='review_length',y='helpfulness')\n",
    "df['review_date'] = pd.to_datetime(df[\"review_date\"]).dt.strftime(\"%Y%m%d\").astype(int)\n",
    "df.plot.scatter(x='review_date',y='helpfulness')"
   ]
  },
  {
   "cell_type": "markdown",
   "metadata": {},
   "source": [
    "#### Verified purchase"
   ]
  },
  {
   "cell_type": "code",
   "execution_count": 7,
   "metadata": {},
   "outputs": [
    {
     "name": "stdout",
     "output_type": "stream",
     "text": [
      "avg helpfulness of verified purchases: 0.8095489392048497\n",
      "avg helpfulness of unverified purchases: 0.8156007326007293\n"
     ]
    }
   ],
   "source": [
    "ver = df[df.verified_purchase == 'Y']\n",
    "not_ver = df[df.verified_purchase == 'N']\n",
    "\n",
    "print(\"avg helpfulness of verified purchases: {0}\".format(ver.helpfulness.mean()))\n",
    "print(\"avg helpfulness of unverified purchases: {0}\".format(not_ver.helpfulness.mean()))"
   ]
  },
  {
   "cell_type": "markdown",
   "metadata": {},
   "source": [
    "# Predicting using Naive Bayes"
   ]
  },
  {
   "cell_type": "code",
   "execution_count": 8,
   "metadata": {},
   "outputs": [],
   "source": [
    "def text_process(text):\n",
    "    '''\n",
    "    Takes in a string of text, then performs the following:\n",
    "    1. Remove all punctuation\n",
    "    2. Remove all stopwords\n",
    "    3. Return the cleaned text as a list of words\n",
    "    '''\n",
    "    nopunc = [char for char in text if char not in string.punctuation]\n",
    "    nopunc = ''.join(nopunc)\n",
    "    \n",
    "    return [word for word in nopunc.split() if word.lower() not in stopwords.words('english') and len(word) > 3]"
   ]
  },
  {
   "cell_type": "code",
   "execution_count": 9,
   "metadata": {},
   "outputs": [],
   "source": [
    "X = df['review_body']\n",
    "Y = df['helpful']"
   ]
  },
  {
   "cell_type": "code",
   "execution_count": 10,
   "metadata": {},
   "outputs": [],
   "source": [
    "bow_transformer = CountVectorizer(analyzer=text_process).fit(X)"
   ]
  },
  {
   "cell_type": "code",
   "execution_count": 11,
   "metadata": {},
   "outputs": [],
   "source": [
    "X = bow_transformer.transform(X)"
   ]
  },
  {
   "cell_type": "code",
   "execution_count": 12,
   "metadata": {},
   "outputs": [],
   "source": [
    "X_train, X_test, Y_train, Y_test = train_test_split(X, Y, test_size=0.3, random_state=101)"
   ]
  },
  {
   "cell_type": "markdown",
   "metadata": {},
   "source": [
    "### MultinomialNB"
   ]
  },
  {
   "cell_type": "code",
   "execution_count": 13,
   "metadata": {},
   "outputs": [
    {
     "data": {
      "text/plain": [
       "MultinomialNB(alpha=1.0, class_prior=None, fit_prior=True)"
      ]
     },
     "execution_count": 13,
     "metadata": {},
     "output_type": "execute_result"
    }
   ],
   "source": [
    "nb = MultinomialNB()\n",
    "nb.fit(X_train, Y_train)"
   ]
  },
  {
   "cell_type": "code",
   "execution_count": 14,
   "metadata": {},
   "outputs": [
    {
     "name": "stdout",
     "output_type": "stream",
     "text": [
      "[[ 359  748]\n",
      " [ 317 1897]]\n",
      "\n",
      "\n",
      "              precision    recall  f1-score   support\n",
      "\n",
      "       False       0.53      0.32      0.40      1107\n",
      "        True       0.72      0.86      0.78      2214\n",
      "\n",
      "   micro avg       0.68      0.68      0.68      3321\n",
      "   macro avg       0.62      0.59      0.59      3321\n",
      "weighted avg       0.66      0.68      0.65      3321\n",
      "\n"
     ]
    }
   ],
   "source": [
    "preds = nb.predict(X_test)\n",
    "\n",
    "print(confusion_matrix(Y_test, preds))\n",
    "print('\\n')\n",
    "print(classification_report(Y_test, preds))"
   ]
  },
  {
   "cell_type": "markdown",
   "metadata": {},
   "source": [
    "#### ComplementNB "
   ]
  },
  {
   "cell_type": "code",
   "execution_count": 15,
   "metadata": {},
   "outputs": [
    {
     "data": {
      "text/plain": [
       "ComplementNB(alpha=1.0, class_prior=None, fit_prior=True, norm=False)"
      ]
     },
     "execution_count": 15,
     "metadata": {},
     "output_type": "execute_result"
    }
   ],
   "source": [
    "cnb = ComplementNB()\n",
    "cnb.fit(X_train, Y_train)"
   ]
  },
  {
   "cell_type": "code",
   "execution_count": 16,
   "metadata": {},
   "outputs": [
    {
     "name": "stdout",
     "output_type": "stream",
     "text": [
      "[[ 417  690]\n",
      " [ 383 1831]]\n",
      "\n",
      "\n",
      "              precision    recall  f1-score   support\n",
      "\n",
      "       False       0.52      0.38      0.44      1107\n",
      "        True       0.73      0.83      0.77      2214\n",
      "\n",
      "   micro avg       0.68      0.68      0.68      3321\n",
      "   macro avg       0.62      0.60      0.61      3321\n",
      "weighted avg       0.66      0.68      0.66      3321\n",
      "\n"
     ]
    }
   ],
   "source": [
    "preds = cnb.predict(X_test)\n",
    "\n",
    "print(confusion_matrix(Y_test, preds))\n",
    "print('\\n')\n",
    "print(classification_report(Y_test, preds))"
   ]
  },
  {
   "cell_type": "markdown",
   "metadata": {},
   "source": [
    "#### Manual examination"
   ]
  },
  {
   "cell_type": "code",
   "execution_count": 17,
   "metadata": {},
   "outputs": [
    {
     "data": {
      "text/html": [
       "<div>\n",
       "<style scoped>\n",
       "    .dataframe tbody tr th:only-of-type {\n",
       "        vertical-align: middle;\n",
       "    }\n",
       "\n",
       "    .dataframe tbody tr th {\n",
       "        vertical-align: top;\n",
       "    }\n",
       "\n",
       "    .dataframe thead th {\n",
       "        text-align: right;\n",
       "    }\n",
       "</style>\n",
       "<table border=\"1\" class=\"dataframe\">\n",
       "  <thead>\n",
       "    <tr style=\"text-align: right;\">\n",
       "      <th></th>\n",
       "      <th>customer_id</th>\n",
       "      <th>helpful_votes</th>\n",
       "      <th>product_category</th>\n",
       "      <th>product_id</th>\n",
       "      <th>review_body</th>\n",
       "      <th>review_date</th>\n",
       "      <th>review_id</th>\n",
       "      <th>star_rating</th>\n",
       "      <th>total_votes</th>\n",
       "      <th>verified_purchase</th>\n",
       "      <th>helpfulness</th>\n",
       "      <th>helpful</th>\n",
       "      <th>review_length</th>\n",
       "    </tr>\n",
       "  </thead>\n",
       "  <tbody>\n",
       "    <tr>\n",
       "      <th>7684</th>\n",
       "      <td>25863507</td>\n",
       "      <td>2</td>\n",
       "      <td>Baby</td>\n",
       "      <td>B000ROMFCU</td>\n",
       "      <td>Sheet did not fit.  Was about 1/2 the size of ...</td>\n",
       "      <td>2009-09-12</td>\n",
       "      <td>R18BJXDJFYJK3S</td>\n",
       "      <td>1</td>\n",
       "      <td>19</td>\n",
       "      <td>Y</td>\n",
       "      <td>0.11</td>\n",
       "      <td>False</td>\n",
       "      <td>195</td>\n",
       "    </tr>\n",
       "  </tbody>\n",
       "</table>\n",
       "</div>"
      ],
      "text/plain": [
       "      customer_id  helpful_votes product_category  product_id  \\\n",
       "7684     25863507              2             Baby  B000ROMFCU   \n",
       "\n",
       "                                            review_body review_date  \\\n",
       "7684  Sheet did not fit.  Was about 1/2 the size of ...  2009-09-12   \n",
       "\n",
       "           review_id  star_rating  total_votes verified_purchase  helpfulness  \\\n",
       "7684  R18BJXDJFYJK3S            1           19                 Y         0.11   \n",
       "\n",
       "      helpful  review_length  \n",
       "7684    False            195  "
      ]
     },
     "execution_count": 17,
     "metadata": {},
     "output_type": "execute_result"
    }
   ],
   "source": [
    "df[df.helpfulness > 0.1].sort_values('helpfulness').head(1)"
   ]
  },
  {
   "cell_type": "code",
   "execution_count": 18,
   "metadata": {},
   "outputs": [
    {
     "name": "stdout",
     "output_type": "stream",
     "text": [
      "predicted helpful: False, actual helpfulness: 0.65\n"
     ]
    }
   ],
   "source": [
    "mid_review = df['review_body'][2808]\n",
    "mid_review_transformed = bow_transformer.transform([mid_review])\n",
    "print(\"predicted helpful: {0}, actual helpfulness: {1}\".format(nb.predict(mid_review_transformed)[0],df['helpfulness'][2808]))"
   ]
  },
  {
   "cell_type": "markdown",
   "metadata": {},
   "source": [
    "#### Popular products"
   ]
  },
  {
   "cell_type": "code",
   "execution_count": 19,
   "metadata": {},
   "outputs": [
    {
     "data": {
      "text/plain": [
       "B00005BTYU    38\n",
       "B00005LQSD    34\n",
       "B001JA85K2    34\n",
       "B0001Y9VN2    33\n",
       "B00005BXI9    33\n",
       "B0000663Q2    32\n",
       "Name: product_id, dtype: int64"
      ]
     },
     "execution_count": 19,
     "metadata": {},
     "output_type": "execute_result"
    }
   ],
   "source": [
    "df.product_id.value_counts(ascending=False).head(6)"
   ]
  },
  {
   "cell_type": "code",
   "execution_count": 21,
   "metadata": {
    "scrolled": false
   },
   "outputs": [
    {
     "data": {
      "image/png": "[encoded data removed]",
      "text/plain": [
       "<Figure size 864x576 with 5 Axes>"
      ]
     },
     "metadata": {},
     "output_type": "display_data"
    }
   ],
   "source": [
    "df_1 = df[df.product_id == 'B00005BTYU']\n",
    "df_2 = df[df.product_id == 'B00005LQSD']\n",
    "df_3 = df[df.product_id == 'B001JA85K2']\n",
    "df_4 = df[df.product_id == 'B0001Y9VN2']\n",
    "df_5 = df[df.product_id == 'B00005BXI9']\n",
    "df_6 = df[df.product_id == 'B0000663Q2']\n",
    "\n",
    "gridsize = (3, 2)\n",
    "fig = plt.figure(figsize=(12, 8))\n",
    "ax1 = plt.subplot2grid(gridsize, (0, 0))\n",
    "ax2 = plt.subplot2grid(gridsize, (1, 0))\n",
    "ax3 = plt.subplot2grid(gridsize, (2, 0))\n",
    "ax4 = plt.subplot2grid(gridsize, (0, 1))\n",
    "ax5 = plt.subplot2grid(gridsize, (1, 1))\n",
    "ax6 = plt.subplot2grid(gridsize, (1, 1))\n",
    "\n",
    "for ax in (ax1, ax2, ax3, ax4, ax5, ax6):\n",
    "    ax.set_xticks([])\n",
    "\n",
    "sctr = ax1.scatter(x = df_1.review_date, y = df_1.helpfulness)\n",
    "sctr = ax2.scatter(x = df_2.review_date, y = df_2.helpfulness)\n",
    "sctr = ax3.scatter(x = df_3.review_date, y = df_3.helpfulness)\n",
    "sctr = ax4.scatter(x = df_4.review_date, y = df_4.helpfulness)\n",
    "sctr = ax5.scatter(x = df_5.review_date, y = df_5.helpfulness)\n",
    "sctr = ax6.scatter(x = df_6.review_date, y = df_6.helpfulness)"
   ]
  },
  {
   "cell_type": "code",
   "execution_count": null,
   "metadata": {},
   "outputs": [],
   "source": []
  }
 ],
 "metadata": {
  "kernelspec": {
   "display_name": "Python [conda env:anaconda3]",
   "language": "python",
   "name": "conda-env-anaconda3-py"
  },
  "language_info": {
   "codemirror_mode": {
    "name": "ipython",
    "version": 3
   },
   "file_extension": ".py",
   "mimetype": "text/x-python",
   "name": "python",
   "nbconvert_exporter": "python",
   "pygments_lexer": "ipython3",
   "version": "3.6.5"
  }
 },
 "nbformat": 4,
 "nbformat_minor": 2
}
